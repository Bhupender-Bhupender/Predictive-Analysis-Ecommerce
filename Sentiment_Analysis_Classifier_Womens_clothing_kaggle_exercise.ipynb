{
  "cells": [
    {
      "cell_type": "markdown",
      "metadata": {
        "colab_type": "text",
        "id": "view-in-github"
      },
      "source": [
        "<a href=\"https://colab.research.google.com/github/janhavi-giri/Kaggle_exer_1/blob/main/Sentiment_Analysis_Classifier_Womens_clothing_kaggle_exercise.ipynb\" target=\"_parent\"><img src=\"https://colab.research.google.com/assets/colab-badge.svg\" alt=\"Open In Colab\"/></a>"
      ]
    },
    {
      "cell_type": "code",
      "execution_count": null,
      "id": "departmental-entity",
      "metadata": {
        "id": "departmental-entity"
      },
      "outputs": [],
      "source": [
        "#Kaggle data topic: \n",
        "#E-commerce : Transactional data for predictive analysis: To build predictive models on online shopping portal data streams \n",
        "#Data sets: 1. https://www.kaggle.com/nicapotato/womens-ecommerce-clothing-reviews\n",
        "#Contains: 23486 rows and 10 feature variables where each row corresponds to a customer review. \n",
        "#The 10 feature variables are:\n",
        "#Clothing ID: Integer/Categorical variable\n",
        "#Age: Positive integer variable of the reviewer’s age\n",
        "#Title: String for review title\n",
        "#Review Text: String variable for review body\n",
        "#Rating: Positive integer, 1 worst to 5 best\n",
        "#Recommended IND: Binary, 1 recommended, 0 not recommended\n",
        "#Positive Feedback Count: Positive integer of # of customers who found the review helpful\n",
        "#Division Name: Categorical name of the product high level division\n",
        "#Department Name: Categorical name of the product department name.\n",
        "#Class Name: Categorical name of the product class name.\n"
      ]
    },
    {
      "cell_type": "markdown",
      "id": "hVLK40PhZjXB",
      "metadata": {
        "id": "hVLK40PhZjXB"
      },
      "source": [
        "# Building a Classifier predicting the recommendation through sentiment analysis of customer reviews "
      ]
    },
    {
      "cell_type": "code",
      "execution_count": 17,
      "id": "criminal-outreach",
      "metadata": {
        "colab": {
          "base_uri": "https://localhost:8080/"
        },
        "id": "criminal-outreach",
        "outputId": "1cd6d503-a7e6-40d7-f9a8-895e8a29fa4e"
      },
      "outputs": [],
      "source": [
        "import os\n",
        "import numpy as np\n",
        "import pandas as pd\n",
        "from sklearn.preprocessing import StandardScaler\n",
        "from sklearn.decomposition import PCA\n",
        "import matplotlib.pyplot as plt\n",
        "import seaborn as sns\n",
        "import statsmodels.api as sm\n",
        "%matplotlib inline\n",
        "from sklearn.model_selection import train_test_split\n",
        "from sklearn.linear_model import LinearRegression\n",
        "from sklearn.feature_selection import RFE\n",
        "from sklearn.linear_model import RidgeCV, LassoCV, Ridge, Lasso\n",
        "from sklearn.ensemble import RandomForestClassifier\n",
        "from sklearn.metrics import confusion_matrix"
      ]
    },
    {
      "cell_type": "code",
      "execution_count": 18,
      "id": "later-dollar",
      "metadata": {
        "colab": {
          "base_uri": "https://localhost:8080/"
        },
        "id": "later-dollar",
        "outputId": "2d1b8ac4-3ff2-48c5-fe9b-419fc0d0e39a"
      },
      "outputs": [
        {
          "name": "stdout",
          "output_type": "stream",
          "text": [
            "# of features in dataset are = 11\n",
            "# of samples in dataset are = 23486\n",
            "Features of data set are = Index(['Unnamed: 0', 'Clothing ID', 'Age', 'Title', 'Review Text', 'Rating',\n",
            "       'Recommended IND', 'Positive Feedback Count', 'Division Name',\n",
            "       'Department Name', 'Class Name'],\n",
            "      dtype='object')\n",
            "Feature datatypes are= Unnamed: 0                  int64\n",
            "Clothing ID                 int64\n",
            "Age                         int64\n",
            "Title                      object\n",
            "Review Text                object\n",
            "Rating                      int64\n",
            "Recommended IND             int64\n",
            "Positive Feedback Count     int64\n",
            "Division Name              object\n",
            "Department Name            object\n",
            "Class Name                 object\n",
            "dtype: object\n",
            "Features of data set are = Index(['Clothing ID', 'Age', 'Title', 'Review Text', 'Rating',\n",
            "       'Recommended IND', 'Positive Feedback Count', 'Division Name',\n",
            "       'Department Name', 'Class Name'],\n",
            "      dtype='object')\n"
          ]
        }
      ],
      "source": [
        "# Step1: Explore and cleaning the data set\n",
        "# Read the data from csv file\n",
        "df = pd.read_csv('Data/Womens Clothing E-Commerce Reviews.csv')\n",
        "print(\"# of features in dataset are =\", df.shape[1])\n",
        "print(\"# of samples in dataset are =\", df.shape[0])\n",
        "#List name of features\n",
        "print(\"Features of data set are =\", df.columns)\n",
        "#List datatypes of features\n",
        "print(\"Feature datatypes are=\",df.dtypes)\n",
        "# Drop Unamed feature from dataset\n",
        "df1 = df.drop(columns=['Unnamed: 0'])\n",
        "#Updated features\n",
        "print(\"Features of data set are =\", df1.columns)"
      ]
    },
    {
      "cell_type": "code",
      "execution_count": 19,
      "id": "helpful-senegal",
      "metadata": {
        "colab": {
          "base_uri": "https://localhost:8080/"
        },
        "id": "helpful-senegal",
        "outputId": "be2d23c0-e4b1-43d8-ebea-96d490b57d57"
      },
      "outputs": [
        {
          "name": "stdout",
          "output_type": "stream",
          "text": [
            "Column has null count= Title 3810 and their datatype is object\n",
            "Column has null count= Review Text 845 and their datatype is object\n",
            "Column has null count= Division Name 14 and their datatype is object\n",
            "Column has null count= Department Name 14 and their datatype is object\n",
            "Column has null count= Class Name 14 and their datatype is object\n"
          ]
        }
      ],
      "source": [
        "# Investigate the data set for any null values\n",
        "for col in df1.columns.to_list():\n",
        "    #print(\"Column\", col, \"NaN value count=\", df1[col].isna().sum())\n",
        "    if(df1[col].isna().sum()!=0):\n",
        "        print(\"Column has null count=\",col, df1[col].isna().sum(), \"and their datatype is\",df1[col].dtypes )\n",
        "    "
      ]
    },
    {
      "cell_type": "code",
      "execution_count": 10,
      "id": "independent-russian",
      "metadata": {
        "colab": {
          "base_uri": "https://localhost:8080/"
        },
        "id": "independent-russian",
        "outputId": "4fee943a-1101-406a-cecf-e2bb3684b572"
      },
      "outputs": [
        {
          "name": "stdout",
          "output_type": "stream",
          "text": [
            "After replacement Title NaN value count= 0\n",
            "After replacement Review Text NaN value count= 0\n",
            "After replacement Division Name NaN value count= 0\n",
            "After replacement Department Name NaN value count= 0\n",
            "After replacement Class Name NaN value count= 0\n"
          ]
        }
      ],
      "source": [
        "# Since all are string type, will replace those null values with ''\n",
        "for col in df1.columns.to_list():\n",
        "    if(df1[col].isna().sum()!=0):\n",
        "            df1[col] = df1[col].fillna('')\n",
        "            print(\"After replacement\", col, \"NaN value count=\",df1[col].isna().sum())"
      ]
    },
    {
      "cell_type": "code",
      "execution_count": 11,
      "id": "arranged-radio",
      "metadata": {
        "colab": {
          "base_uri": "https://localhost:8080/",
          "height": 296
        },
        "id": "arranged-radio",
        "outputId": "58ebef3d-b1b9-4585-d17a-0eb892fbf3f7"
      },
      "outputs": [
        {
          "data": {
            "text/plain": [
              "<Axes: xlabel='Department Name', ylabel='count'>"
            ]
          },
          "execution_count": 11,
          "metadata": {},
          "output_type": "execute_result"
        },
        {
          "data": {
            "image/png": "[encoded data removed]",
            "text/plain": [
              "<Figure size 2000x400 with 1 Axes>"
            ]
          },
          "metadata": {},
          "output_type": "display_data"
        }
      ],
      "source": [
        "plt.figure(figsize=(20, 4))\n",
        "sns.countplot(data=df1, x='Department Name', order=df1['Department Name'].value_counts().sort_values(ascending=False).index, hue='Recommended IND')"
      ]
    },
    {
      "cell_type": "code",
      "execution_count": 12,
      "id": "MFrerPTgvIYs",
      "metadata": {
        "colab": {
          "base_uri": "https://localhost:8080/"
        },
        "id": "MFrerPTgvIYs",
        "outputId": "cdd9209b-b391-4f13-9db2-fdee10cc3f9f"
      },
      "outputs": [
        {
          "name": "stdout",
          "output_type": "stream",
          "text": [
            "   Recommended IND                                        Review Text\n",
            "0                1  Absolutely wonderful - silky and sexy and comf...\n",
            "1                1  Love this dress!  it's sooo pretty.  i happene...\n",
            "2                0  I had such high hopes for this dress and reall...\n",
            "3                1  I love, love, love this jumpsuit. it's fun, fl...\n",
            "4                1  This shirt is very flattering to all due to th...\n"
          ]
        }
      ],
      "source": [
        "# Creating dataframe containing only the review text and corresponding recommendation\n",
        "df2 = df1[['Recommended IND','Review Text']].copy()\n",
        "print(df2.head())\n",
        "df2.to_csv('Review_Analysis.csv')"
      ]
    },
    {
      "cell_type": "code",
      "execution_count": 13,
      "id": "oMIa2Bey8l9x",
      "metadata": {
        "id": "oMIa2Bey8l9x"
      },
      "outputs": [],
      "source": [
        "import regex as re"
      ]
    },
    {
      "cell_type": "code",
      "execution_count": 14,
      "id": "fn1eltle7tQ9",
      "metadata": {
        "id": "fn1eltle7tQ9"
      },
      "outputs": [],
      "source": [
        "# JG: removing special characters from review text\n",
        "def remove_special_characters(text, remove_digits=True):\n",
        "  pattern=r'[^a-zA-z0-9\\s]'\n",
        "  text=re.sub(pattern,'',text) \n",
        "  return text"
      ]
    },
    {
      "cell_type": "code",
      "execution_count": 15,
      "id": "lJ4luYJ98SQi",
      "metadata": {
        "colab": {
          "base_uri": "https://localhost:8080/",
          "height": 204
        },
        "id": "lJ4luYJ98SQi",
        "outputId": "86024362-ca49-4fec-a7eb-db8d78c3a234"
      },
      "outputs": [
        {
          "data": {
            "text/html": [
              "<div>\n",
              "<style scoped>\n",
              "    .dataframe tbody tr th:only-of-type {\n",
              "        vertical-align: middle;\n",
              "    }\n",
              "\n",
              "    .dataframe tbody tr th {\n",
              "        vertical-align: top;\n",
              "    }\n",
              "\n",
              "    .dataframe thead th {\n",
              "        text-align: right;\n",
              "    }\n",
              "</style>\n",
              "<table border=\"1\" class=\"dataframe\">\n",
              "  <thead>\n",
              "    <tr style=\"text-align: right;\">\n",
              "      <th></th>\n",
              "      <th>Recommended IND</th>\n",
              "      <th>Review Text</th>\n",
              "    </tr>\n",
              "  </thead>\n",
              "  <tbody>\n",
              "    <tr>\n",
              "      <th>0</th>\n",
              "      <td>1</td>\n",
              "      <td>Absolutely wonderful  silky and sexy and comfo...</td>\n",
              "    </tr>\n",
              "    <tr>\n",
              "      <th>1</th>\n",
              "      <td>1</td>\n",
              "      <td>Love this dress  its sooo pretty  i happened t...</td>\n",
              "    </tr>\n",
              "    <tr>\n",
              "      <th>2</th>\n",
              "      <td>0</td>\n",
              "      <td>I had such high hopes for this dress and reall...</td>\n",
              "    </tr>\n",
              "    <tr>\n",
              "      <th>3</th>\n",
              "      <td>1</td>\n",
              "      <td>I love love love this jumpsuit its fun flirty ...</td>\n",
              "    </tr>\n",
              "    <tr>\n",
              "      <th>4</th>\n",
              "      <td>1</td>\n",
              "      <td>This shirt is very flattering to all due to th...</td>\n",
              "    </tr>\n",
              "  </tbody>\n",
              "</table>\n",
              "</div>"
            ],
            "text/plain": [
              "   Recommended IND                                        Review Text\n",
              "0                1  Absolutely wonderful  silky and sexy and comfo...\n",
              "1                1  Love this dress  its sooo pretty  i happened t...\n",
              "2                0  I had such high hopes for this dress and reall...\n",
              "3                1  I love love love this jumpsuit its fun flirty ...\n",
              "4                1  This shirt is very flattering to all due to th..."
            ]
          },
          "execution_count": 15,
          "metadata": {},
          "output_type": "execute_result"
        }
      ],
      "source": [
        "df2['Review Text']=df2['Review Text'].apply(remove_special_characters)\n",
        "df2.head()"
      ]
    },
    {
      "cell_type": "code",
      "execution_count": 16,
      "id": "OlEWFoJx9Bs7",
      "metadata": {
        "colab": {
          "base_uri": "https://localhost:8080/",
          "height": 351
        },
        "id": "OlEWFoJx9Bs7",
        "outputId": "702af940-9e67-4f1b-8964-b1370c534ff4"
      },
      "outputs": [
        {
          "name": "stdout",
          "output_type": "stream",
          "text": [
            "(16440,) (7046,)\n"
          ]
        },
        {
          "data": {
            "image/png": "[encoded data removed]",
            "text/plain": [
              "<Figure size 640x480 with 1 Axes>"
            ]
          },
          "metadata": {},
          "output_type": "display_data"
        }
      ],
      "source": [
        "#JG: Splitting into train/test data\n",
        "X=df2['Review Text'].values\n",
        "Y=df2['Recommended IND'].values\n",
        "import seaborn as sns\n",
        "sns.countplot(df2['Recommended IND'])\n",
        "X_train, X_test, Y_train, Y_test= train_test_split(X,Y, test_size=0.3,random_state=42)\n",
        "print(X_train.shape,X_test.shape)"
      ]
    },
    {
      "cell_type": "markdown",
      "id": "WVzet5DIA9dd",
      "metadata": {
        "id": "WVzet5DIA9dd"
      },
      "source": [
        "Conducting Sentiment Analysis: From reviews predicting the recommendation \n",
        "\n",
        "Reference code: https://github.com/abr-98/text_classification_all_network/blob/master/Text_classification__sentiment_analysis.ipynb\n",
        "\n",
        "Used the TF-IDF algorithm to convert the review text to numeric form which will be used to make prediction "
      ]
    },
    {
      "cell_type": "code",
      "execution_count": null,
      "id": "0DgdLKoG-N7W",
      "metadata": {
        "colab": {
          "base_uri": "https://localhost:8080/"
        },
        "id": "0DgdLKoG-N7W",
        "outputId": "10881a9f-6773-400b-d020-07ee72aa6e11"
      },
      "outputs": [
        {
          "name": "stdout",
          "output_type": "stream",
          "text": [
            "# of unique features= 16075\n"
          ]
        }
      ],
      "source": [
        "from sklearn.feature_extraction.text import TfidfVectorizer\n",
        "vec = TfidfVectorizer()\n",
        "vec.fit(X_train)\n",
        "print(\"# of unique features=\",len(vec.get_feature_names()))\n",
        "\n",
        "x_train=vec.transform(X_train)\n",
        "x_test=vec.transform(X_test)\n"
      ]
    },
    {
      "cell_type": "code",
      "execution_count": null,
      "id": "VXlJu1Ts-utT",
      "metadata": {
        "colab": {
          "base_uri": "https://localhost:8080/"
        },
        "id": "VXlJu1Ts-utT",
        "outputId": "86536fbb-232b-4046-8ae2-99f7b0b9a3b6"
      },
      "outputs": [
        {
          "data": {
            "text/plain": [
              "<16440x16075 sparse matrix of type '<class 'numpy.float64'>'\n",
              "\twith 682859 stored elements in Compressed Sparse Row format>"
            ]
          },
          "execution_count": 75,
          "metadata": {
            "tags": []
          },
          "output_type": "execute_result"
        }
      ],
      "source": [
        "x_train"
      ]
    },
    {
      "cell_type": "code",
      "execution_count": null,
      "id": "6Q_AvoU0-xjD",
      "metadata": {
        "colab": {
          "base_uri": "https://localhost:8080/"
        },
        "id": "6Q_AvoU0-xjD",
        "outputId": "cba86e57-29fb-462d-8b00-39c38fa18e03"
      },
      "outputs": [
        {
          "data": {
            "text/plain": [
              "<7046x16075 sparse matrix of type '<class 'numpy.float64'>'\n",
              "\twith 288614 stored elements in Compressed Sparse Row format>"
            ]
          },
          "execution_count": 76,
          "metadata": {
            "tags": []
          },
          "output_type": "execute_result"
        }
      ],
      "source": [
        "x_test"
      ]
    },
    {
      "cell_type": "code",
      "execution_count": null,
      "id": "z5oH34Xd-0cZ",
      "metadata": {
        "colab": {
          "base_uri": "https://localhost:8080/"
        },
        "id": "z5oH34Xd-0cZ",
        "outputId": "f6843f58-f4c7-4196-ce9e-65ca2d3cd487"
      },
      "outputs": [
        {
          "data": {
            "text/plain": [
              "LogisticRegression(C=1.0, class_weight=None, dual=False, fit_intercept=True,\n",
              "                   intercept_scaling=1, l1_ratio=None, max_iter=100,\n",
              "                   multi_class='auto', n_jobs=None, penalty='l2',\n",
              "                   random_state=None, solver='lbfgs', tol=0.0001, verbose=0,\n",
              "                   warm_start=False)"
            ]
          },
          "execution_count": 77,
          "metadata": {
            "tags": []
          },
          "output_type": "execute_result"
        }
      ],
      "source": [
        "from sklearn.linear_model import LogisticRegression\n",
        "lr = LogisticRegression()\n",
        "lr.fit(x_train, Y_train)"
      ]
    },
    {
      "cell_type": "code",
      "execution_count": null,
      "id": "8odBYI6x-3a6",
      "metadata": {
        "id": "8odBYI6x-3a6"
      },
      "outputs": [],
      "source": [
        "score_test = lr.score(x_test, Y_test)"
      ]
    },
    {
      "cell_type": "code",
      "execution_count": null,
      "id": "caPUU00l-_cU",
      "metadata": {
        "colab": {
          "base_uri": "https://localhost:8080/"
        },
        "id": "caPUU00l-_cU",
        "outputId": "a0e9742b-557d-4b7e-a517-d8c43f839810"
      },
      "outputs": [
        {
          "data": {
            "text/plain": [
              "0.8868861765540732"
            ]
          },
          "execution_count": 79,
          "metadata": {
            "tags": []
          },
          "output_type": "execute_result"
        }
      ],
      "source": [
        "score_test"
      ]
    },
    {
      "cell_type": "code",
      "execution_count": null,
      "id": "z136ng8i_CGL",
      "metadata": {
        "id": "z136ng8i_CGL"
      },
      "outputs": [],
      "source": [
        "score_train = lr.score(x_train, Y_train)"
      ]
    },
    {
      "cell_type": "code",
      "execution_count": null,
      "id": "uSu9-GVf_FtE",
      "metadata": {
        "colab": {
          "base_uri": "https://localhost:8080/"
        },
        "id": "uSu9-GVf_FtE",
        "outputId": "e86f70e6-cb27-4a3c-815c-89e0f6510c28"
      },
      "outputs": [
        {
          "data": {
            "text/plain": [
              "0.9087591240875912"
            ]
          },
          "execution_count": 81,
          "metadata": {
            "tags": []
          },
          "output_type": "execute_result"
        }
      ],
      "source": [
        "score_train"
      ]
    },
    {
      "cell_type": "code",
      "execution_count": null,
      "id": "x2IRhRtB_Hhs",
      "metadata": {
        "id": "x2IRhRtB_Hhs"
      },
      "outputs": [],
      "source": [
        "y_pred = lr.predict(x_test)\n"
      ]
    },
    {
      "cell_type": "code",
      "execution_count": null,
      "id": "SIMNQbhBghE7",
      "metadata": {
        "colab": {
          "base_uri": "https://localhost:8080/"
        },
        "id": "SIMNQbhBghE7",
        "outputId": "25a6ce00-0778-4d80-fd83-31ee7b4c0a2b"
      },
      "outputs": [
        {
          "name": "stdout",
          "output_type": "stream",
          "text": [
            "Accuracy = 0.8868861765540732, Precision = 0.8987058635564786, Recall = 0.9718382861091914, F1-score = 0.9338424504025898\n",
            "Confusion Matrix is:\n",
            "[[ 624  634]\n",
            " [ 163 5625]]\n"
          ]
        }
      ],
      "source": [
        "from sklearn.metrics import confusion_matrix\n",
        "from sklearn.metrics import accuracy_score as accuracy\n",
        "from sklearn.metrics import recall_score as recall\n",
        "from sklearn.metrics import precision_score as precision\n",
        "from sklearn.metrics import f1_score\n",
        "\n",
        "### START CODE HERE ###\n",
        "# TPOT confusion matrix\n",
        "cmtp = confusion_matrix(Y_test, y_pred) \n",
        "acc  = accuracy(Y_test,y_pred)\n",
        "rec  = recall(Y_test,y_pred)\n",
        "prec = precision(Y_test,y_pred)\n",
        "f1   = f1_score(Y_test,y_pred)\n",
        "### END CODE HERE ###\n",
        "print(f'Accuracy = {acc}, Precision = {prec}, Recall = {rec}, F1-score = {f1}')\n",
        "print('Confusion Matrix is:')\n",
        "print(cmtp)"
      ]
    },
    {
      "cell_type": "markdown",
      "id": "i-_T4YmrHQk0",
      "metadata": {
        "id": "i-_T4YmrHQk0"
      },
      "source": []
    },
    {
      "cell_type": "code",
      "execution_count": null,
      "id": "istWI_ghA2kz",
      "metadata": {
        "id": "istWI_ghA2kz"
      },
      "outputs": [],
      "source": []
    }
  ],
  "metadata": {
    "colab": {
      "collapsed_sections": [],
      "include_colab_link": true,
      "name": "Sentiment_Analysis_Classifier_Womens_clothing_kaggle_exercise.ipynb",
      "provenance": []
    },
    "kernelspec": {
      "display_name": "Python 3",
      "language": "python",
      "name": "python3"
    },
    "language_info": {
      "codemirror_mode": {
        "name": "ipython",
        "version": 3
      },
      "file_extension": ".py",
      "mimetype": "text/x-python",
      "name": "python",
      "nbconvert_exporter": "python",
      "pygments_lexer": "ipython3",
      "version": "3.10.0"
    }
  },
  "nbformat": 4,
  "nbformat_minor": 5
}
